{
 "cells": [
  {
   "cell_type": "code",
   "execution_count": 2,
   "metadata": {},
   "outputs": [],
   "source": [
    "import numpy as np\n",
    "import networkx as nx"
   ]
  },
  {
   "cell_type": "code",
   "execution_count": 6,
   "metadata": {},
   "outputs": [],
   "source": [
    "current_data = 'hongzhi'"
   ]
  },
  {
   "cell_type": "code",
   "execution_count": 3,
   "metadata": {},
   "outputs": [],
   "source": [
    "persona_graph = nx.read_edgelist('Suhi_output/edgelist_{}'.format(current_data))"
   ]
  },
  {
   "cell_type": "code",
   "execution_count": 33,
   "metadata": {},
   "outputs": [],
   "source": [
    "def read_personamap(path):\n",
    "    data = {}\n",
    "    with open(path, 'r', encoding='utf-8') as file:\n",
    "        for line in file:\n",
    "            data_line = line.strip().split(',')\n",
    "            data[int(data_line[0])] = int(data_line[1])\n",
    "    return data\n",
    "\n",
    "def read_input_graph(path):\n",
    "    edges = []\n",
    "    count = 0\n",
    "    with open(path, 'r', encoding='utf-8') as file:\n",
    "        for line in file:\n",
    "            if count == 0:\n",
    "                count += 1\n",
    "                continue\n",
    "            data_line = line.strip().split(',')\n",
    "            edges.append(data_line)\n",
    "    graph = nx.Graph()\n",
    "    graph.add_edges_from(edges)\n",
    "    return graph"
   ]
  },
  {
   "cell_type": "code",
   "execution_count": 25,
   "metadata": {},
   "outputs": [],
   "source": [
    "personamap_path = 'Suhi_output/ego_net_{}.txt'.format(current_data)\n",
    "origraph_path = 'input/{}_friends.csv'.format(current_data)"
   ]
  },
  {
   "cell_type": "code",
   "execution_count": 40,
   "metadata": {},
   "outputs": [],
   "source": [
    "personamap = read_personamap(personamap_path)\n",
    "personamap = {str(k):str(v) for k,v in personamap.items()}"
   ]
  },
  {
   "cell_type": "code",
   "execution_count": 34,
   "metadata": {},
   "outputs": [],
   "source": [
    "origraph = read_input_graph(origraph_path)"
   ]
  },
  {
   "cell_type": "code",
   "execution_count": 43,
   "metadata": {},
   "outputs": [
    {
     "data": {
      "text/plain": [
       "['3420']"
      ]
     },
     "execution_count": 43,
     "metadata": {},
     "output_type": "execute_result"
    }
   ],
   "source": [
    "persona_graph.neighbors('3671')"
   ]
  },
  {
   "cell_type": "code",
   "execution_count": 38,
   "metadata": {},
   "outputs": [
    {
     "data": {
      "text/plain": [
       "['1384', '3581', '1008', '64', '2790', '1332', '576']"
      ]
     },
     "execution_count": 38,
     "metadata": {},
     "output_type": "execute_result"
    }
   ],
   "source": [
    "origraph.neighbors('3707')"
   ]
  },
  {
   "cell_type": "code",
   "execution_count": 42,
   "metadata": {},
   "outputs": [
    {
     "data": {
      "text/plain": [
       "['1384', '2790', '1008', '1332', '576']"
      ]
     },
     "execution_count": 42,
     "metadata": {},
     "output_type": "execute_result"
    }
   ],
   "source": [
    "[personamap[ele] for ele in persona_graph.neighbors('3670')]"
   ]
  },
  {
   "cell_type": "code",
   "execution_count": 44,
   "metadata": {},
   "outputs": [
    {
     "data": {
      "text/plain": [
       "['3581']"
      ]
     },
     "execution_count": 44,
     "metadata": {},
     "output_type": "execute_result"
    }
   ],
   "source": [
    "[personamap[ele] for ele in persona_graph.neighbors('3671')]"
   ]
  },
  {
   "cell_type": "code",
   "execution_count": 45,
   "metadata": {},
   "outputs": [
    {
     "data": {
      "text/plain": [
       "['64']"
      ]
     },
     "execution_count": 45,
     "metadata": {},
     "output_type": "execute_result"
    }
   ],
   "source": [
    "[personamap[ele] for ele in persona_graph.neighbors('3672')]"
   ]
  },
  {
   "cell_type": "code",
   "execution_count": 46,
   "metadata": {},
   "outputs": [],
   "source": [
    "selected_checkins = np.load('selected_checkins_new.npy')"
   ]
  },
  {
   "cell_type": "code",
   "execution_count": 47,
   "metadata": {},
   "outputs": [],
   "source": [
    "def create_user_checkins(checkins):\n",
    "    user_checkins_dict = dict()\n",
    "    for i in range(len(checkins)):\n",
    "        user = str(checkins[i][0])\n",
    "        venue = str(checkins[i][2])\n",
    "        if user not in user_checkins_dict:\n",
    "            user_checkins_dict[user] = set([venue])\n",
    "        else:\n",
    "            user_checkins_dict[user].add(venue)\n",
    "    return user_checkins_dict\n"
   ]
  },
  {
   "cell_type": "code",
   "execution_count": 48,
   "metadata": {},
   "outputs": [],
   "source": [
    "user_checkins_dict = create_user_checkins(selected_checkins)"
   ]
  },
  {
   "cell_type": "code",
   "execution_count": 50,
   "metadata": {},
   "outputs": [],
   "source": [
    "persona_map_inverse = dict()\n",
    "for key, value in personamap.items():\n",
    "    if value not in persona_map_inverse:\n",
    "        persona_map_inverse[value] = [key]\n",
    "    else:\n",
    "        persona_map_inverse[value].append(key)"
   ]
  },
  {
   "cell_type": "code",
   "execution_count": 96,
   "metadata": {},
   "outputs": [
    {
     "name": "stdout",
     "output_type": "stream",
     "text": [
      "9\n",
      "['3', '95', '309']\n",
      "['130', '2134', '1826', '1643']\n",
      "['714', '1295', '492']\n",
      "xxxxxxxxxxxxxxxxxxxxxxxxxxxxxxxxxxxxxxxxxxxxxxxxxxxxxxxxxxxxxxxxxxxxxxxxxxxxxxxxxxxxxxxxxxxxxxxxxxxx\n"
     ]
    }
   ],
   "source": [
    "lol_key = None\n",
    "lol_value = None\n",
    "for key, value in persona_map_inverse.items():\n",
    "    if len(value) == 16:\n",
    "        lol_key = key\n",
    "        lol_value = value\n",
    "        goods = []\n",
    "        for ele in lol_value:\n",
    "            neighbors_ele = persona_graph.neighbors(ele)\n",
    "            ori_neighbors = [personamap[ele] for ele in neighbors_ele]\n",
    "            if len(ori_neighbors) > 2:\n",
    "                goods.append(ori_neighbors)\n",
    "        if len(goods) >= 3:\n",
    "            print(lol_key)\n",
    "            for ele in goods:\n",
    "                print(ele)\n",
    "            print(\"x\"*100)\n",
    "            break"
   ]
  },
  {
   "cell_type": "code",
   "execution_count": 97,
   "metadata": {},
   "outputs": [
    {
     "data": {
      "text/plain": [
       "('9',\n",
       " ['1728',\n",
       "  '1729',\n",
       "  '1730',\n",
       "  '1731',\n",
       "  '1732',\n",
       "  '1733',\n",
       "  '1734',\n",
       "  '1735',\n",
       "  '1736',\n",
       "  '1737',\n",
       "  '1738',\n",
       "  '1739',\n",
       "  '1740',\n",
       "  '1741',\n",
       "  '1742',\n",
       "  '1743'])"
      ]
     },
     "execution_count": 97,
     "metadata": {},
     "output_type": "execute_result"
    }
   ],
   "source": [
    "lol_key, lol_value"
   ]
  },
  {
   "cell_type": "code",
   "execution_count": 98,
   "metadata": {},
   "outputs": [
    {
     "data": {
      "text/plain": [
       "[['3', '95', '309'], ['130', '2134', '1826', '1643'], ['714', '1295', '492']]"
      ]
     },
     "execution_count": 98,
     "metadata": {},
     "output_type": "execute_result"
    }
   ],
   "source": [
    "goods"
   ]
  },
  {
   "cell_type": "code",
   "execution_count": 101,
   "metadata": {},
   "outputs": [
    {
     "name": "stdout",
     "output_type": "stream",
     "text": [
      "3 {'92411'}\n",
      "95 {'23938'}\n",
      "309 {'10506', '106227', '4517', '103780', '15618'}\n",
      "xxxxxxxxxxxxxxxxxxxxxxxxxxxxxxxxxxxxxxxxxxxxxxxxxxxxxxxxxxxxxxxxxxxxxxxxxxxxxxxxxxxxxxxxxxxxxxxxxxxx\n",
      "130 {'95464', '15322', '55858', '67399', '5900', '66746', '1940', '2266', '13972', '22220', '7233', '30429', '51391', '8064', '9857'}\n",
      "2134 {'55185', '15322', '51742', '34', '7040', '3401', '50496', '59275', '14550', '17307', '9857', '9006', '45364', '34184', '9784', '116888', '9048', '15143', '21467', '34197', '99804', '95785', '80880', '78553', '4389', '20629', '8202', '515', '28796', '2575', '1879', '3254', '49326', '9004', '8994'}\n",
      "1826 {'22744', '1237', '7988', '35341', '4354', '4814', '34162', '3350', '24069', '6194', '4950', '117416', '16110', '91459', '4810', '4572', '1821', '3828', '248', '7518', '6252', '4789', '119935', '4447', '6871', '115192', '13873', '40934', '6001', '7584', '4141', '1836', '18307', '84217', '8046', '1855', '22790', '1228', '4120', '7455', '5461', '5684', '5289', '3448', '77205', '2279', '28843', '25175', '3827', '8576'}\n",
      "1643 {'4517', '2691', '26342', '55004', '8883', '9047', '11611', '8403', '30258', '18515', '1821', '2200'}\n",
      "xxxxxxxxxxxxxxxxxxxxxxxxxxxxxxxxxxxxxxxxxxxxxxxxxxxxxxxxxxxxxxxxxxxxxxxxxxxxxxxxxxxxxxxxxxxxxxxxxxxx\n",
      "714 {'7961', '12459', '17358', '6121', '13989'}\n",
      "1295 {'9360'}\n",
      "492 {'15424', '15322', '503', '15474', '65362', '8880', '14919', '51738', '27015', '2143', '5906', '81620', '13915', '7680', '12771', '1495', '77861', '7178', '28626', '8164', '18773', '97267', '52651', '11015', '26342', '3912', '9818', '2251', '7208', '19301', '9081', '12708', '8630', '18100', '5116', '102935', '10752', '5944', '76465', '3037', '9485', '7307', '1992', '85534', '41218', '1875', '4317', '5029', '94879', '12324', '8789', '21500', '89152', '12718', '7961', '12062', '5961', '15688', '30206', '33026', '99862', '1940', '27569', '515', '1421', '111309', '15842', '42195', '52169', '13147', '119642', '23528', '103691', '2282'}\n",
      "xxxxxxxxxxxxxxxxxxxxxxxxxxxxxxxxxxxxxxxxxxxxxxxxxxxxxxxxxxxxxxxxxxxxxxxxxxxxxxxxxxxxxxxxxxxxxxxxxxxx\n"
     ]
    }
   ],
   "source": [
    "for group_people in goods:\n",
    "    for ele in group_people:\n",
    "        print(ele, user_checkins_dict[ele])\n",
    "    print(\"x\"*100)"
   ]
  },
  {
   "cell_type": "code",
   "execution_count": null,
   "metadata": {},
   "outputs": [],
   "source": []
  }
 ],
 "metadata": {
  "kernelspec": {
   "display_name": "Python 3",
   "language": "python",
   "name": "python3"
  },
  "language_info": {
   "codemirror_mode": {
    "name": "ipython",
    "version": 3
   },
   "file_extension": ".py",
   "mimetype": "text/x-python",
   "name": "python",
   "nbconvert_exporter": "python",
   "pygments_lexer": "ipython3",
   "version": "3.7.6"
  }
 },
 "nbformat": 4,
 "nbformat_minor": 4
}
